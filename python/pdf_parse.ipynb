{
 "cells": [
  {
   "cell_type": "code",
   "execution_count": 67,
   "metadata": {},
   "outputs": [],
   "source": [
    "import pdfplumber\n",
    "from dataclasses import dataclass, replace, asdict\n",
    "import re\n",
    "import pandas as pd\n",
    "from datetime import datetime\n",
    "import locale\n",
    "from pyarrow import parquet as pq\n",
    "import os\n",
    "import io\n",
    "#import urllib3"
   ]
  },
  {
   "cell_type": "code",
   "execution_count": 58,
   "metadata": {},
   "outputs": [
    {
     "name": "stdout",
     "output_type": "stream",
     "text": [
      "pdf/2022.03.10_vertretungenfremderstaatendl-data.pdf\n",
      "pdf/2022.03.25_vertretungenfremderstaatendl-data.pdf\n",
      "pdf/2022.03.14_vertretungenfremderstaatendl-data.pdf\n",
      "pdf/2021.04.13_vertretungenfremderstaatendl-data.pdf\n",
      "pdf/2022.03.17_vertretungenfremderstaatendl-data.pdf\n",
      "pdf/2020.09.23_vertretungenfremderstaatendl-data.pdf\n",
      "pdf/2022.02.03_vertretungenfremderstaatendl-data.pdf\n",
      "pdf/2020.11.19_vertretungenfremderstaatendl-data.pdf\n",
      "pdf/2020.02.05_vertretungenfremderstaatendl-data.pdf\n",
      "pdf/2022.02.17_vertretungenfremderstaatendl-data.pdf\n",
      "pdf/2021.06.25_vertretungenfremderstaatendl-data.pdf\n",
      "pdf/2022.01.26_vertretungenfremderstaatendl-data.pdf\n",
      "pdf/2022.03.04_vertretungenfremderstaatendl-data.pdf\n"
     ]
    }
   ],
   "source": [
    "for file in os.listdir(\"pdf\"):\n",
    "    if file.endswith(\"vertretungenfremderstaatendl-data.pdf\"):\n",
    "        print(os.path.join(\"pdf\", file))"
   ]
  },
  {
   "cell_type": "markdown",
   "metadata": {},
   "source": [
    "### Open PDF directly from web without saving locally"
   ]
  },
  {
   "cell_type": "code",
   "execution_count": 43,
   "metadata": {},
   "outputs": [
    {
     "ename": "FileNotFoundError",
     "evalue": "[Errno 2] No such file or directory: 'https://www.auswaertiges-amt.de/blob/199684/ada2000f738fe8e4cec27ab998eabc02/vertretungenfremderstaatendl-data.pdf'",
     "output_type": "error",
     "traceback": [
      "\u001b[0;31m---------------------------------------------------------------------------\u001b[0m",
      "\u001b[0;31mFileNotFoundError\u001b[0m                         Traceback (most recent call last)",
      "\u001b[1;32m/Users/lorenz/repos/data_engineering_zoomcamp/project/pdf_parse.ipynb Cell 2'\u001b[0m in \u001b[0;36m<cell line: 1>\u001b[0;34m()\u001b[0m\n\u001b[0;32m----> <a href='vscode-notebook-cell:/Users/lorenz/repos/data_engineering_zoomcamp/project/pdf_parse.ipynb#ch0000059?line=0'>1</a>\u001b[0m t \u001b[39m=\u001b[39m pdfplumber\u001b[39m.\u001b[39;49mopen(\u001b[39m'\u001b[39;49m\u001b[39mhttps://www.auswaertiges-amt.de/blob/199684/ada2000f738fe8e4cec27ab998eabc02/vertretungenfremderstaatendl-data.pdf\u001b[39;49m\u001b[39m'\u001b[39;49m)\n",
      "File \u001b[0;32m~/anaconda3/envs/pdfplumber/lib/python3.8/site-packages/pdfplumber/pdf.py:54\u001b[0m, in \u001b[0;36mPDF.open\u001b[0;34m(cls, path_or_fp, **kwargs)\u001b[0m\n\u001b[1;32m     <a href='file:///Users/lorenz/anaconda3/envs/pdfplumber/lib/python3.8/site-packages/pdfplumber/pdf.py?line=50'>51</a>\u001b[0m \u001b[39m@classmethod\u001b[39m\n\u001b[1;32m     <a href='file:///Users/lorenz/anaconda3/envs/pdfplumber/lib/python3.8/site-packages/pdfplumber/pdf.py?line=51'>52</a>\u001b[0m \u001b[39mdef\u001b[39;00m \u001b[39mopen\u001b[39m(\u001b[39mcls\u001b[39m, path_or_fp, \u001b[39m*\u001b[39m\u001b[39m*\u001b[39mkwargs):\n\u001b[1;32m     <a href='file:///Users/lorenz/anaconda3/envs/pdfplumber/lib/python3.8/site-packages/pdfplumber/pdf.py?line=52'>53</a>\u001b[0m     \u001b[39mif\u001b[39;00m \u001b[39misinstance\u001b[39m(path_or_fp, (\u001b[39mstr\u001b[39m, pathlib\u001b[39m.\u001b[39mPath)):\n\u001b[0;32m---> <a href='file:///Users/lorenz/anaconda3/envs/pdfplumber/lib/python3.8/site-packages/pdfplumber/pdf.py?line=53'>54</a>\u001b[0m         fp \u001b[39m=\u001b[39m \u001b[39mopen\u001b[39;49m(path_or_fp, \u001b[39m\"\u001b[39;49m\u001b[39mrb\u001b[39;49m\u001b[39m\"\u001b[39;49m)\n\u001b[1;32m     <a href='file:///Users/lorenz/anaconda3/envs/pdfplumber/lib/python3.8/site-packages/pdfplumber/pdf.py?line=54'>55</a>\u001b[0m         inst \u001b[39m=\u001b[39m \u001b[39mcls\u001b[39m(fp, \u001b[39m*\u001b[39m\u001b[39m*\u001b[39mkwargs)\n\u001b[1;32m     <a href='file:///Users/lorenz/anaconda3/envs/pdfplumber/lib/python3.8/site-packages/pdfplumber/pdf.py?line=55'>56</a>\u001b[0m         inst\u001b[39m.\u001b[39mclose_file \u001b[39m=\u001b[39m fp\u001b[39m.\u001b[39mclose\n",
      "\u001b[0;31mFileNotFoundError\u001b[0m: [Errno 2] No such file or directory: 'https://www.auswaertiges-amt.de/blob/199684/ada2000f738fe8e4cec27ab998eabc02/vertretungenfremderstaatendl-data.pdf'"
     ]
    }
   ],
   "source": [
    "url = 'https://www.auswaertiges-amt.de/blob/199684/ada2000f738fe8e4cec27ab998eabc02/vertretungenfremderstaatendl-data.pdf'\n",
    "http = urllib3.PoolManager()\n",
    "temp = io.BytesIO()\n",
    "temp.write(http.request(\"GET\", url).data)\n",
    "t = pdfplumber.open(temp)"
   ]
  },
  {
   "cell_type": "code",
   "execution_count": 18,
   "metadata": {},
   "outputs": [],
   "source": [
    "pdf = pdfplumber.open(\"pdf/2022.03.10_vertretungenfremderstaatendl-data.pdf\")"
   ]
  },
  {
   "cell_type": "markdown",
   "metadata": {},
   "source": [
    "### date of release\n"
   ]
  },
  {
   "cell_type": "code",
   "execution_count": 19,
   "metadata": {},
   "outputs": [],
   "source": [
    "for line in pdf.pages[0].extract_text().splitlines():\n",
    "\n",
    "    if line.startswith('Stand:'):\n",
    "        line = line.strip('Stand: ')\n",
    "        locale.setlocale(locale.LC_TIME, \"de_DE\") \n",
    "        date = datetime.strptime(line, '%d. %B %Y').date()"
   ]
  },
  {
   "cell_type": "code",
   "execution_count": 25,
   "metadata": {},
   "outputs": [
    {
     "data": {
      "text/plain": [
       "datetime.date(2022, 3, 10)"
      ]
     },
     "execution_count": 25,
     "metadata": {},
     "output_type": "execute_result"
    }
   ],
   "source": [
    "date"
   ]
  },
  {
   "cell_type": "code",
   "execution_count": 29,
   "metadata": {},
   "outputs": [
    {
     "data": {
      "text/plain": [
       "'2022'"
      ]
     },
     "execution_count": 29,
     "metadata": {},
     "output_type": "execute_result"
    }
   ],
   "source": [
    "str(date.year)"
   ]
  },
  {
   "cell_type": "code",
   "execution_count": 35,
   "metadata": {},
   "outputs": [
    {
     "ename": "TypeError",
     "evalue": "expected str, bytes or os.PathLike object, not NoneType",
     "output_type": "error",
     "traceback": [
      "\u001b[0;31m---------------------------------------------------------------------------\u001b[0m",
      "\u001b[0;31mTypeError\u001b[0m                                 Traceback (most recent call last)",
      "\u001b[1;32m/Users/lorenz/repos/data_engineering_zoomcamp/project/pdf_parse.ipynb Cell 7'\u001b[0m in \u001b[0;36m<cell line: 1>\u001b[0;34m()\u001b[0m\n\u001b[0;32m----> <a href='vscode-notebook-cell:/Users/lorenz/repos/data_engineering_zoomcamp/project/pdf_parse.ipynb#ch0000054?line=0'>1</a>\u001b[0m os\u001b[39m.\u001b[39;49mpath\u001b[39m.\u001b[39;49mjoin(\u001b[39mNone\u001b[39;49;00m, \u001b[39mstr\u001b[39;49m(date\u001b[39m.\u001b[39;49myear), \u001b[39mstr\u001b[39;49m(date\u001b[39m.\u001b[39;49mmonth), \u001b[39mstr\u001b[39;49m(date\u001b[39m.\u001b[39;49mday))\n",
      "File \u001b[0;32m~/anaconda3/envs/pdfplumber/lib/python3.8/posixpath.py:76\u001b[0m, in \u001b[0;36mjoin\u001b[0;34m(a, *p)\u001b[0m\n\u001b[1;32m     <a href='file:///Users/lorenz/anaconda3/envs/pdfplumber/lib/python3.8/posixpath.py?line=70'>71</a>\u001b[0m \u001b[39mdef\u001b[39;00m \u001b[39mjoin\u001b[39m(a, \u001b[39m*\u001b[39mp):\n\u001b[1;32m     <a href='file:///Users/lorenz/anaconda3/envs/pdfplumber/lib/python3.8/posixpath.py?line=71'>72</a>\u001b[0m     \u001b[39m\"\"\"Join two or more pathname components, inserting '/' as needed.\u001b[39;00m\n\u001b[1;32m     <a href='file:///Users/lorenz/anaconda3/envs/pdfplumber/lib/python3.8/posixpath.py?line=72'>73</a>\u001b[0m \u001b[39m    If any component is an absolute path, all previous path components\u001b[39;00m\n\u001b[1;32m     <a href='file:///Users/lorenz/anaconda3/envs/pdfplumber/lib/python3.8/posixpath.py?line=73'>74</a>\u001b[0m \u001b[39m    will be discarded.  An empty last part will result in a path that\u001b[39;00m\n\u001b[1;32m     <a href='file:///Users/lorenz/anaconda3/envs/pdfplumber/lib/python3.8/posixpath.py?line=74'>75</a>\u001b[0m \u001b[39m    ends with a separator.\"\"\"\u001b[39;00m\n\u001b[0;32m---> <a href='file:///Users/lorenz/anaconda3/envs/pdfplumber/lib/python3.8/posixpath.py?line=75'>76</a>\u001b[0m     a \u001b[39m=\u001b[39m os\u001b[39m.\u001b[39;49mfspath(a)\n\u001b[1;32m     <a href='file:///Users/lorenz/anaconda3/envs/pdfplumber/lib/python3.8/posixpath.py?line=76'>77</a>\u001b[0m     sep \u001b[39m=\u001b[39m _get_sep(a)\n\u001b[1;32m     <a href='file:///Users/lorenz/anaconda3/envs/pdfplumber/lib/python3.8/posixpath.py?line=77'>78</a>\u001b[0m     path \u001b[39m=\u001b[39m a\n",
      "\u001b[0;31mTypeError\u001b[0m: expected str, bytes or os.PathLike object, not NoneType"
     ]
    }
   ],
   "source": [
    "os.path.join(None, str(date.year), str(date.month), str(date.day))"
   ]
  },
  {
   "cell_type": "markdown",
   "metadata": {},
   "source": [
    "### Country Detection\n",
    "Test if first word on page is upper case."
   ]
  },
  {
   "cell_type": "code",
   "execution_count": 406,
   "metadata": {},
   "outputs": [],
   "source": [
    "# get_country_index\n",
    "country_index = {}\n",
    "\n",
    "# Start on page 2, because page 1 is the cover and would be a false positive\n",
    "for page in pdf.pages[1:]:\n",
    "    \n",
    "    # split text on page into lines\n",
    "    lines = page.extract_text().splitlines()\n",
    "    # if there is at least one line and the first line is uppercase\n",
    "    if len(lines) and lines[0] == lines[0].upper():\n",
    "        \n",
    "        # set end page for previous country in tupel (index start page, index end page+1)\n",
    "        if country_index:\n",
    "            country_index[country_name] = (country_index[country_name][0], page.page_number-1)\n",
    "        \n",
    "        # save country and page index (page number - 1) in index\n",
    "        country_name = lines[0].title()\n",
    "        country_index[country_name] = (page.page_number-1, None)"
   ]
  },
  {
   "cell_type": "markdown",
   "metadata": {},
   "source": [
    "### Select all page for a country"
   ]
  },
  {
   "cell_type": "code",
   "execution_count": 407,
   "metadata": {},
   "outputs": [],
   "source": [
    "country = country_index['Heiliger Stuhl']\n",
    "pages = []\n",
    "\n",
    "for page in pdf.pages[slice(*country)]:\n",
    "    pages.append(page.extract_text())\n",
    "\n",
    "text = '\\n'.join(pages)"
   ]
  },
  {
   "cell_type": "code",
   "execution_count": 409,
   "metadata": {},
   "outputs": [],
   "source": [
    "lines = text.splitlines()"
   ]
  },
  {
   "cell_type": "code",
   "execution_count": 410,
   "metadata": {},
   "outputs": [],
   "source": [
    "country_name = lines[0].capitalize()\n",
    "country_name_long = lines[1]"
   ]
  },
  {
   "cell_type": "code",
   "execution_count": 441,
   "metadata": {},
   "outputs": [],
   "source": [
    "people = extract_diplomats(lines)"
   ]
  },
  {
   "cell_type": "code",
   "execution_count": 442,
   "metadata": {},
   "outputs": [],
   "source": [
    "df = pd.json_normalize(asdict(obj) for obj in people.values())\n",
    "df['country'] = country_name\n",
    "df['country_long'] = country_name_long\n",
    "df['date'] = date\n"
   ]
  },
  {
   "cell_type": "code",
   "execution_count": 443,
   "metadata": {},
   "outputs": [
    {
     "data": {
      "text/html": [
       "<div>\n",
       "<style scoped>\n",
       "    .dataframe tbody tr th:only-of-type {\n",
       "        vertical-align: middle;\n",
       "    }\n",
       "\n",
       "    .dataframe tbody tr th {\n",
       "        vertical-align: top;\n",
       "    }\n",
       "\n",
       "    .dataframe thead th {\n",
       "        text-align: right;\n",
       "    }\n",
       "</style>\n",
       "<table border=\"1\" class=\"dataframe\">\n",
       "  <thead>\n",
       "    <tr style=\"text-align: right;\">\n",
       "      <th></th>\n",
       "      <th>title</th>\n",
       "      <th>gender</th>\n",
       "      <th>name</th>\n",
       "      <th>position_name</th>\n",
       "      <th>date_since</th>\n",
       "      <th>order</th>\n",
       "      <th>partner_gender</th>\n",
       "      <th>partner_name</th>\n",
       "      <th>country</th>\n",
       "      <th>country_long</th>\n",
       "      <th>date</th>\n",
       "    </tr>\n",
       "  </thead>\n",
       "  <tbody>\n",
       "    <tr>\n",
       "      <th>0</th>\n",
       "      <td>S. E.</td>\n",
       "      <td>None</td>\n",
       "      <td>Erzbischof  Nikola  ETEROVIĆ</td>\n",
       "      <td>außerordentlicher und bevollmächtigter Botscha...</td>\n",
       "      <td>20.11.2013</td>\n",
       "      <td>1</td>\n",
       "      <td>None</td>\n",
       "      <td>None</td>\n",
       "      <td>Heiliger Stuhl</td>\n",
       "      <td>Heiliger Stuhl</td>\n",
       "      <td>2022-03-10</td>\n",
       "    </tr>\n",
       "    <tr>\n",
       "      <th>1</th>\n",
       "      <td>None</td>\n",
       "      <td>Herr</td>\n",
       "      <td>Chun Yean  CHOONG</td>\n",
       "      <td>Nuntiatursekretär</td>\n",
       "      <td>10.02.2020</td>\n",
       "      <td>2</td>\n",
       "      <td>None</td>\n",
       "      <td>None</td>\n",
       "      <td>Heiliger Stuhl</td>\n",
       "      <td>Heiliger Stuhl</td>\n",
       "      <td>2022-03-10</td>\n",
       "    </tr>\n",
       "    <tr>\n",
       "      <th>2</th>\n",
       "      <td>None</td>\n",
       "      <td>Herr</td>\n",
       "      <td>Sebastiano  SANNA</td>\n",
       "      <td>Nuntiatursekretär</td>\n",
       "      <td>07.02.2022</td>\n",
       "      <td>3</td>\n",
       "      <td>None</td>\n",
       "      <td>None</td>\n",
       "      <td>Heiliger Stuhl</td>\n",
       "      <td>Heiliger Stuhl</td>\n",
       "      <td>2022-03-10</td>\n",
       "    </tr>\n",
       "  </tbody>\n",
       "</table>\n",
       "</div>"
      ],
      "text/plain": [
       "   title gender                          name  \\\n",
       "0  S. E.   None  Erzbischof  Nikola  ETEROVIĆ   \n",
       "1   None   Herr             Chun Yean  CHOONG   \n",
       "2   None   Herr             Sebastiano  SANNA   \n",
       "\n",
       "                                       position_name  date_since  order  \\\n",
       "0  außerordentlicher und bevollmächtigter Botscha...  20.11.2013      1   \n",
       "1                                  Nuntiatursekretär  10.02.2020      2   \n",
       "2                                  Nuntiatursekretär  07.02.2022      3   \n",
       "\n",
       "  partner_gender partner_name         country    country_long        date  \n",
       "0           None         None  Heiliger Stuhl  Heiliger Stuhl  2022-03-10  \n",
       "1           None         None  Heiliger Stuhl  Heiliger Stuhl  2022-03-10  \n",
       "2           None         None  Heiliger Stuhl  Heiliger Stuhl  2022-03-10  "
      ]
     },
     "execution_count": 443,
     "metadata": {},
     "output_type": "execute_result"
    }
   ],
   "source": [
    "df"
   ]
  },
  {
   "cell_type": "markdown",
   "metadata": {},
   "source": [
    "### Name Extraction\n",
    "Startet mit S. E., Herr, Frau\n",
    "\n",
    "Vor- und Nachname: manchmal nichts groß, manchmal komplett groß, manchmal nur Nachname groß.\n",
    "\n",
    "Sonderfall Indonesion (Seite 100): drei Bindestricht vor Namen: Herr --- YUL EDISON\n",
    "\n",
    "Manche Länder haben keine Personen, z. B. Sao Tome (Seite 225)"
   ]
  },
  {
   "cell_type": "markdown",
   "metadata": {},
   "source": [
    "### Extract features\n",
    "* country_name\n",
    "* country_name_long\n",
    "* date\n",
    "* person\n",
    "    * title [S. E., NULL]\n",
    "    * gender = [Herr, Frau]\n",
    "    * name\n",
    "    * position_name\n",
    "    * order (position on the list)\n",
    "    * since_date\n",
    "    * ? belongs_to = Millitärattachestab\n",
    "    * partner_gender = NULL\n",
    "    * partner_name = NULL"
   ]
  },
  {
   "cell_type": "code",
   "execution_count": null,
   "metadata": {},
   "outputs": [],
   "source": [
    "@dataclass\n",
    "class Person:\n",
    "    \"\"\"Class for keeping track of an item in inventory.\"\"\"\n",
    "    title: str\n",
    "    gender: str\n",
    "    name: str\n",
    "    position_name: str = None\n",
    "    date_since: str = None\n",
    "    order: int = None\n",
    "    partner_gender: str = None\n",
    "    partner_name: str = None\n"
   ]
  },
  {
   "cell_type": "code",
   "execution_count": 440,
   "metadata": {},
   "outputs": [],
   "source": [
    "def extract_diplomats(lines):\n",
    "    diplomats = {}\n",
    "    order = 0\n",
    "\n",
    "    for idx, line in enumerate(lines):\n",
    "        \n",
    "        if line.lower().startswith(('s. e.', 'i. e.', 'herr', 'frau')):\n",
    "            # new name found\n",
    "            if 'idx_last_found' in locals() and idx == idx_last_found + 1:\n",
    "                # new name follows after last name -> last name ist partner\n",
    "                # previous_person is diplomat\n",
    "                # person is partner\n",
    "                diplomats[previous_person_key] = replace(diplomats[previous_person_key], \n",
    "                                                partner_gender=person.gender, \n",
    "                                                partner_name=person.name)\n",
    "                del diplomats[person.order] # delete partner object\n",
    "                order -= 1\n",
    "                del idx_last_found\n",
    "            \n",
    "            if line.lower().startswith(('s. e.', 'i. e.')):\n",
    "                title = line[:5]\n",
    "                line = line[5:].strip()\n",
    "            else:\n",
    "                title = None\n",
    "\n",
    "            if line.lower().startswith(('herr', 'frau')):\n",
    "\n",
    "                line = line.split(' ', maxsplit=1)\n",
    "                if len(line) != 2:\n",
    "                    continue\n",
    "                \n",
    "                gender = line[0]\n",
    "                line = line[1]\n",
    "            else:\n",
    "                gender = None\n",
    "\n",
    "            name = line.strip('- ')\n",
    "\n",
    "            idx_last_found = idx\n",
    "            previous_person_key = order\n",
    "            order += 1\n",
    "            person = Person(title, gender, name, order=order)\n",
    "\n",
    "            diplomats[person.order] = person\n",
    "        \n",
    "        elif re.search('\\(\\d{2}\\.\\d{2}\\.\\d{4}\\)', line):\n",
    "            # second line of person containing position and date\n",
    "\n",
    "            line = line.split(',')\n",
    "\n",
    "            position: str = ', '.join(line[:-1]).strip() # first part until the last comma\n",
    "            date_since: str = line[-1].strip('() ') # date in brackers\n",
    "\n",
    "            diplomats[person.order] = replace(person, \n",
    "                                            position_name=position, \n",
    "                                            date_since=date_since)\n",
    "            #previous_person = diplomats[person.order]\n",
    "        \n",
    "        else:\n",
    "            # if nothing was found in this line, reset \n",
    "            if 'idx_last_found' in locals() and idx == idx_last_found + 1:\n",
    "                idx_last_found = idx\n",
    "                \n",
    "\n",
    "    # if last line was person -> this was a partner\n",
    "    if 'idx_last_found' in locals() and idx == idx_last_found:\n",
    "        diplomats[previous_person_key] = replace(diplomats[previous_person_key], \n",
    "                                                partner_gender=person.gender, \n",
    "                                                partner_name=person.name)\n",
    "        del diplomats[person.order] # delete partner object\n",
    "\n",
    "    return diplomats"
   ]
  },
  {
   "cell_type": "markdown",
   "metadata": {},
   "source": [
    "### Example Afghanistan\n",
    "\n",
    "country_name: line 0, capitalize  \n",
    "country_name_long: line 1"
   ]
  },
  {
   "cell_type": "code",
   "execution_count": 415,
   "metadata": {},
   "outputs": [],
   "source": [
    "p2 = pdf.pages[95]"
   ]
  },
  {
   "cell_type": "code",
   "execution_count": null,
   "metadata": {},
   "outputs": [],
   "source": [
    "im = p2.to_image(resolution=150)\n",
    "im.draw_rects(p2.extract_words())"
   ]
  },
  {
   "cell_type": "code",
   "execution_count": 416,
   "metadata": {},
   "outputs": [],
   "source": [
    "p2_text = p2.extract_text()\n",
    "p2_lines = p2_text.splitlines()"
   ]
  },
  {
   "cell_type": "code",
   "execution_count": 419,
   "metadata": {},
   "outputs": [],
   "source": [
    "country_name = p2_lines[0].title()\n",
    "country_name_long = p2_lines[1]"
   ]
  },
  {
   "cell_type": "code",
   "execution_count": 420,
   "metadata": {},
   "outputs": [
    {
     "name": "stdout",
     "output_type": "stream",
     "text": [
      "Heiliger Stuhl\n",
      "Heiliger Stuhl\n"
     ]
    }
   ],
   "source": [
    "print(country_name)\n",
    "print(country_name_long)"
   ]
  },
  {
   "cell_type": "markdown",
   "metadata": {},
   "source": [
    "### Name detection"
   ]
  },
  {
   "cell_type": "markdown",
   "metadata": {},
   "source": []
  },
  {
   "cell_type": "code",
   "execution_count": 421,
   "metadata": {},
   "outputs": [],
   "source": [
    "diplomats = {}\n",
    "order = 0\n",
    "\n",
    "for idx, line in enumerate(p2_lines):\n",
    "    \n",
    "    if line.lower().startswith(('s. e.', 'herr', 'frau')):\n",
    "        # new name found\n",
    "        if 'idx_last_found' in locals() and idx == idx_last_found + 1:\n",
    "            # new name follows after last name -> last name ist partner\n",
    "            # previous_person is diplomat\n",
    "            # person is partner\n",
    "            diplomats[previous_person_key] = replace(diplomats[previous_person_key], \n",
    "                                               partner_gender=person.gender, \n",
    "                                               partner_name=person.name)\n",
    "            del diplomats[person.order] # delete partner object\n",
    "            order -= 1\n",
    "        \n",
    "        if line.lower().startswith('s. e.'):\n",
    "            title = 'S. E.'\n",
    "            line = line[5:].strip()\n",
    "        else:\n",
    "            title = None\n",
    "\n",
    "        if line.lower().startswith(('herr', 'frau')):\n",
    "\n",
    "            line = line.split(' ', maxsplit=1)\n",
    "            if len(line) != 2:\n",
    "                continue\n",
    "            \n",
    "            gender = line[0]\n",
    "            line = line[1]\n",
    "        else:\n",
    "            gender = None\n",
    "\n",
    "        name = line.strip('- ')\n",
    "\n",
    "        idx_last_found = idx\n",
    "        previous_person_key = order\n",
    "        order += 1\n",
    "        person = Person(title, gender, name, order=order)\n",
    "\n",
    "        diplomats[person.order] = person\n",
    "    \n",
    "    elif 'idx_last_found' in locals() and \\\n",
    "         idx == idx_last_found + 1 and \\\n",
    "         re.search('\\(\\d{2}\\.\\d{2}\\.\\d{4}\\)', line):\n",
    "        # second line of person containing position and date\n",
    "        line = line.split('(')\n",
    "\n",
    "        position: str = ', '.join(line[:-1]).strip()\n",
    "        date_since: str = line[-1].strip('() ')\n",
    "\n",
    "        diplomats[person.order] = replace(person, \n",
    "                                          position_name=position, \n",
    "                                          date_since=date_since)\n",
    "        previous_person = diplomats[person.order]\n",
    "\n",
    "# if last line was person -> this was a partner\n",
    "if 'idx_last_found' in locals() and idx == idx_last_found:\n",
    "    diplomats[previous_person_key] = replace(diplomats[previous_person_key], \n",
    "                                             partner_gender=person.gender, \n",
    "                                             partner_name=person.name)\n",
    "    del diplomats[person.order] # delete partner object"
   ]
  },
  {
   "cell_type": "code",
   "execution_count": 424,
   "metadata": {},
   "outputs": [
    {
     "data": {
      "text/plain": [
       "['HEILIGER STUHL',\n",
       " 'Heiliger Stuhl',\n",
       " 'Kanzlei:',\n",
       " 'Postfach:',\n",
       " '61 30 58',\n",
       " 'Adresse:',\n",
       " 'Lilienthalstraße 3 a',\n",
       " '10965 Berlin',\n",
       " 'Telefon:',\n",
       " '+49 30 61 62 40',\n",
       " 'Fax:',\n",
       " '+49 30 61 62 43 00',\n",
       " 'E-Mail:',\n",
       " 'apostolische@nuntiatur.de',\n",
       " 'Homepage:',\n",
       " 'http://www.nuntiatur.de',\n",
       " 'Konsularbezirke:',\n",
       " 'Bundesgebiet',\n",
       " 'S. E. Erzbischof  Nikola  ETEROVIĆ',\n",
       " 'außerordentlicher und bevollmächtigter Botschafter, (20.11.2013)',\n",
       " 'Herr  Chun Yean  CHOONG',\n",
       " 'Nuntiatursekretär, (10.02.2020)',\n",
       " 'Herr  Sebastiano  SANNA',\n",
       " 'Nuntiatursekretär, (07.02.2022)']"
      ]
     },
     "execution_count": 424,
     "metadata": {},
     "output_type": "execute_result"
    }
   ],
   "source": [
    "text.splitlines()"
   ]
  },
  {
   "cell_type": "code",
   "execution_count": 422,
   "metadata": {},
   "outputs": [
    {
     "data": {
      "text/plain": [
       "{1: Person(title=None, gender='Herr', name='Chun Yean  CHOONG', position_name='Nuntiatursekretär,', date_since='10.02.2020', order=1, partner_gender=None, partner_name=None),\n",
       " 2: Person(title=None, gender='Herr', name='Sebastiano  SANNA', position_name='Nuntiatursekretär,', date_since='07.02.2022', order=2, partner_gender=None, partner_name=None)}"
      ]
     },
     "execution_count": 422,
     "metadata": {},
     "output_type": "execute_result"
    }
   ],
   "source": [
    "diplomats"
   ]
  },
  {
   "cell_type": "code",
   "execution_count": 435,
   "metadata": {},
   "outputs": [],
   "source": [
    "line = 'S. E. Erzbischof  Nikola  ETEROVIĆ'"
   ]
  },
  {
   "cell_type": "code",
   "execution_count": 436,
   "metadata": {},
   "outputs": [],
   "source": [
    "if line.lower().startswith('s. e.'):\n",
    "    title = 'S. E.'\n",
    "    line = line[5:].strip()"
   ]
  },
  {
   "cell_type": "code",
   "execution_count": 437,
   "metadata": {},
   "outputs": [
    {
     "data": {
      "text/plain": [
       "'Erzbischof  Nikola  ETEROVIĆ'"
      ]
     },
     "execution_count": 437,
     "metadata": {},
     "output_type": "execute_result"
    }
   ],
   "source": [
    "line"
   ]
  },
  {
   "cell_type": "code",
   "execution_count": 434,
   "metadata": {},
   "outputs": [
    {
     "ename": "ValueError",
     "evalue": "not enough values to unpack (expected 2, got 1)",
     "output_type": "error",
     "traceback": [
      "\u001b[0;31m---------------------------------------------------------------------------\u001b[0m",
      "\u001b[0;31mValueError\u001b[0m                                Traceback (most recent call last)",
      "\u001b[1;32m/Users/lorenz/repos/data_engineering_zoomcamp/project/pdf_parse.ipynb Cell 34'\u001b[0m in \u001b[0;36m<cell line: 1>\u001b[0;34m()\u001b[0m\n\u001b[0;32m----> <a href='vscode-notebook-cell:/Users/lorenz/repos/data_engineering_zoomcamp/project/pdf_parse.ipynb#ch0000075?line=0'>1</a>\u001b[0m a, b \u001b[39m=\u001b[39m line\u001b[39m.\u001b[39msplit(\u001b[39m'\u001b[39m\u001b[39m  \u001b[39m\u001b[39m'\u001b[39m, maxsplit\u001b[39m=\u001b[39m\u001b[39m1\u001b[39m)\n",
      "\u001b[0;31mValueError\u001b[0m: not enough values to unpack (expected 2, got 1)"
     ]
    }
   ],
   "source": [
    "line.split('  ', maxsplit=1)"
   ]
  },
  {
   "cell_type": "code",
   "execution_count": 432,
   "metadata": {},
   "outputs": [
    {
     "data": {
      "text/plain": [
       "'Nikola  ETEROVIĆ'"
      ]
     },
     "execution_count": 432,
     "metadata": {},
     "output_type": "execute_result"
    }
   ],
   "source": [
    "b"
   ]
  },
  {
   "cell_type": "code",
   "execution_count": 346,
   "metadata": {},
   "outputs": [
    {
     "data": {
      "text/plain": [
       "'15.06.2021'"
      ]
     },
     "execution_count": 346,
     "metadata": {},
     "output_type": "execute_result"
    }
   ],
   "source": [
    "line[-1].strip('() ')"
   ]
  },
  {
   "cell_type": "code",
   "execution_count": 348,
   "metadata": {},
   "outputs": [
    {
     "data": {
      "text/plain": [
       "'Heeres-,  Luftwaffen- und Marineattaché'"
      ]
     },
     "execution_count": 348,
     "metadata": {},
     "output_type": "execute_result"
    }
   ],
   "source": [
    "', '.join(line[:-1]).strip()"
   ]
  },
  {
   "cell_type": "code",
   "execution_count": 301,
   "metadata": {},
   "outputs": [
    {
     "data": {
      "text/plain": [
       "'29.03.2021'"
      ]
     },
     "execution_count": 301,
     "metadata": {},
     "output_type": "execute_result"
    }
   ],
   "source": [
    "line[1].strip('() ')"
   ]
  },
  {
   "cell_type": "markdown",
   "metadata": {},
   "source": [
    "### Read in Parquet"
   ]
  }
 ],
 "metadata": {
  "interpreter": {
   "hash": "d24c6fa03f8101df543eb6891b90048d6f4f4c2f731a6193b6649296e830db5a"
  },
  "kernelspec": {
   "display_name": "Python 3.8.12 ('pdfplumber')",
   "language": "python",
   "name": "python3"
  },
  "language_info": {
   "codemirror_mode": {
    "name": "ipython",
    "version": 3
   },
   "file_extension": ".py",
   "mimetype": "text/x-python",
   "name": "python",
   "nbconvert_exporter": "python",
   "pygments_lexer": "ipython3",
   "version": "3.8.12"
  },
  "orig_nbformat": 4
 },
 "nbformat": 4,
 "nbformat_minor": 2
}
